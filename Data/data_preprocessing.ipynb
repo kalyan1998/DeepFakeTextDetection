{
 "cells": [
  {
   "cell_type": "code",
   "execution_count": 1,
   "id": "6d77af04-e45a-4847-bbac-9bcc0ff909ea",
   "metadata": {},
   "outputs": [
    {
     "name": "stdout",
     "output_type": "stream",
     "text": [
      "Data processing complete and files saved.\n"
     ]
    }
   ],
   "source": [
    "import json\n",
    "import random\n",
    "from sklearn.model_selection import train_test_split\n",
    "\n",
    "def load_data(file_path):\n",
    "    data = []\n",
    "    with open(file_path, 'r') as file:\n",
    "        for line in file:\n",
    "            data.append(json.loads(line.strip()))\n",
    "    return data\n",
    "\n",
    "def modify_labels_and_remove_key(data):\n",
    "    for item in data:\n",
    "        # Change labels from numeric to string\n",
    "        if item['label'] == 0:\n",
    "            item['label'] = 'machine'\n",
    "        elif item['label'] == 1:\n",
    "            item['label'] = 'human'\n",
    "        \n",
    "        # Remove 'src' key if it exists\n",
    "        item.pop('src', None)\n",
    "\n",
    "def add_ids_to_data(data):\n",
    "    for index, item in enumerate(data, start=1):\n",
    "        item['id'] = index\n",
    "\n",
    "def downsize_data(data, label0_count=300, label1_count=0):\n",
    "    # Adjust to use string labels correctly\n",
    "    label0_data = [item for item in data if item['label'] == 'machine']\n",
    "    label1_data = [item for item in data if item['label'] == 'human']\n",
    "\n",
    "    # Randomly select items from each label group\n",
    "    selected_label0 = random.sample(label0_data, min(label0_count, len(label0_data)))\n",
    "    selected_label1 = random.sample(label1_data, min(label1_count, len(label1_data)))\n",
    "    \n",
    "    # Combine and shuffle the downsized dataset\n",
    "    downsized_data = selected_label0 + selected_label1\n",
    "    random.shuffle(downsized_data)\n",
    "    return downsized_data\n",
    "\n",
    "def split_data(data, train_size=0.7, test_size=0.15, validation_size=0.15):\n",
    "    train_data, test_val_data = train_test_split(data, train_size=train_size)\n",
    "    test_data, val_data = train_test_split(test_val_data, test_size=test_size / (test_size + validation_size))\n",
    "    return train_data, test_data, val_data\n",
    "\n",
    "def save_data(data, filename):\n",
    "    with open(filename, 'w') as file:\n",
    "        for item in data:\n",
    "            file.write(json.dumps(item) + '\\n')\n",
    "\n",
    "def process_dataset(file_path):\n",
    "    # Load data\n",
    "    data = load_data(file_path)\n",
    "    # Modify the labels and remove unnecessary keys\n",
    "    modify_labels_and_remove_key(data)\n",
    "    # Downsize and shuffle data\n",
    "    #downsized_data = downsize_data(data)\n",
    "    add_ids_to_data(data)\n",
    "    # Split data into train, test, and validation sets\n",
    "    train_data, test_data, val_data = split_data(data)\n",
    "\n",
    "    # Save data to JSONL files\n",
    "    save_data(train_data, '../DFTData/train_data_perturbed.jsonl')\n",
    "    save_data(test_data, '../DFTData/test_data_perturbed.jsonl')\n",
    "    save_data(val_data, '../DFTData/val_data_perturbed.jsonl')\n",
    "    print(\"Data processing complete and files saved.\")\n",
    "\n",
    "# Call the function with your file path\n",
    "process_dataset('../DFTData/Perturbed_Train_Data.jsonl')"
   ]
  },
  {
   "cell_type": "code",
   "execution_count": null,
   "id": "bcb20e53-fcc6-48c3-bb96-9a21ef657d92",
   "metadata": {},
   "outputs": [],
   "source": []
  }
 ],
 "metadata": {
  "kernelspec": {
   "display_name": "Python 3 (ipykernel)",
   "language": "python",
   "name": "python3"
  },
  "language_info": {
   "codemirror_mode": {
    "name": "ipython",
    "version": 3
   },
   "file_extension": ".py",
   "mimetype": "text/x-python",
   "name": "python",
   "nbconvert_exporter": "python",
   "pygments_lexer": "ipython3",
   "version": "3.9.12"
  }
 },
 "nbformat": 4,
 "nbformat_minor": 5
}
